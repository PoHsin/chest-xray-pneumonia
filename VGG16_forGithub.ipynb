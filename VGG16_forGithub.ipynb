{
 "cells": [
  {
   "cell_type": "code",
   "execution_count": 1,
   "metadata": {},
   "outputs": [
    {
     "name": "stderr",
     "output_type": "stream",
     "text": [
      "Using TensorFlow backend.\n"
     ]
    }
   ],
   "source": [
    "from keras.models import Sequential, Model, load_model\n",
    "from keras.layers import Activation, Dropout, Flatten, Dense, GlobalAveragePooling2D\n",
    "from keras.layers.normalization import BatchNormalization\n",
    "from tensorflow.python.keras.preprocessing.image import ImageDataGenerator, img_to_array, load_img\n",
    "from sklearn.metrics import confusion_matrix\n",
    "from keras.applications.vgg16 import VGG16\n",
    "from keras import applications\n",
    "from keras.utils.data_utils import Sequence\n",
    "from keras import optimizers\n",
    "\n",
    "from glob import glob\n",
    "import os\n",
    "import numpy as np\n",
    "import pandas as pd\n",
    "import matplotlib.pyplot as plt\n"
   ]
  },
  {
   "cell_type": "code",
   "execution_count": 2,
   "metadata": {},
   "outputs": [],
   "source": [
    "model = VGG16(weights='imagenet', include_top=False)\n",
    "result = model.output\n",
    "result = GlobalAveragePooling2D()(result) #池化層  對2維輸入進行全域性平均值池化過濾\n",
    "result = Dense(512, activation='relu')(result)\n",
    "predictions = Dense(2, activation='sigmoid')(result)\n",
    "inception_transfer = Model(inputs=model.input, outputs=predictions)\n",
    "inception_transfer.compile(loss='categorical_crossentropy',\n",
    "              optimizer=optimizers.SGD(lr=1e-4, momentum=0.9),\n",
    "              metrics=['accuracy'])"
   ]
  },
  {
   "cell_type": "code",
   "execution_count": 3,
   "metadata": {},
   "outputs": [
    {
     "name": "stdout",
     "output_type": "stream",
     "text": [
      "Model: \"model_1\"\n",
      "_________________________________________________________________\n",
      "Layer (type)                 Output Shape              Param #   \n",
      "=================================================================\n",
      "input_1 (InputLayer)         (None, None, None, 3)     0         \n",
      "_________________________________________________________________\n",
      "block1_conv1 (Conv2D)        (None, None, None, 64)    1792      \n",
      "_________________________________________________________________\n",
      "block1_conv2 (Conv2D)        (None, None, None, 64)    36928     \n",
      "_________________________________________________________________\n",
      "block1_pool (MaxPooling2D)   (None, None, None, 64)    0         \n",
      "_________________________________________________________________\n",
      "block2_conv1 (Conv2D)        (None, None, None, 128)   73856     \n",
      "_________________________________________________________________\n",
      "block2_conv2 (Conv2D)        (None, None, None, 128)   147584    \n",
      "_________________________________________________________________\n",
      "block2_pool (MaxPooling2D)   (None, None, None, 128)   0         \n",
      "_________________________________________________________________\n",
      "block3_conv1 (Conv2D)        (None, None, None, 256)   295168    \n",
      "_________________________________________________________________\n",
      "block3_conv2 (Conv2D)        (None, None, None, 256)   590080    \n",
      "_________________________________________________________________\n",
      "block3_conv3 (Conv2D)        (None, None, None, 256)   590080    \n",
      "_________________________________________________________________\n",
      "block3_pool (MaxPooling2D)   (None, None, None, 256)   0         \n",
      "_________________________________________________________________\n",
      "block4_conv1 (Conv2D)        (None, None, None, 512)   1180160   \n",
      "_________________________________________________________________\n",
      "block4_conv2 (Conv2D)        (None, None, None, 512)   2359808   \n",
      "_________________________________________________________________\n",
      "block4_conv3 (Conv2D)        (None, None, None, 512)   2359808   \n",
      "_________________________________________________________________\n",
      "block4_pool (MaxPooling2D)   (None, None, None, 512)   0         \n",
      "_________________________________________________________________\n",
      "block5_conv1 (Conv2D)        (None, None, None, 512)   2359808   \n",
      "_________________________________________________________________\n",
      "block5_conv2 (Conv2D)        (None, None, None, 512)   2359808   \n",
      "_________________________________________________________________\n",
      "block5_conv3 (Conv2D)        (None, None, None, 512)   2359808   \n",
      "_________________________________________________________________\n",
      "block5_pool (MaxPooling2D)   (None, None, None, 512)   0         \n",
      "_________________________________________________________________\n",
      "global_average_pooling2d_1 ( (None, 512)               0         \n",
      "_________________________________________________________________\n",
      "dense_1 (Dense)              (None, 512)               262656    \n",
      "_________________________________________________________________\n",
      "dense_2 (Dense)              (None, 2)                 1026      \n",
      "=================================================================\n",
      "Total params: 14,978,370\n",
      "Trainable params: 14,978,370\n",
      "Non-trainable params: 0\n",
      "_________________________________________________________________\n"
     ]
    }
   ],
   "source": [
    "inception_transfer.summary()"
   ]
  },
  {
   "cell_type": "code",
   "execution_count": 4,
   "metadata": {},
   "outputs": [],
   "source": [
    "train_data  = 'train/'\n",
    "test_data   = 'test/'\n",
    "val_data    = 'val/'"
   ]
  },
  {
   "cell_type": "code",
   "execution_count": 5,
   "metadata": {},
   "outputs": [
    {
     "name": "stdout",
     "output_type": "stream",
     "text": [
      "Found 5216 images belonging to 2 classes.\n",
      "Found 624 images belonging to 2 classes.\n",
      "Found 16 images belonging to 2 classes.\n"
     ]
    }
   ],
   "source": [
    "from keras.preprocessing.image import ImageDataGenerator\n",
    "train_datagen = ImageDataGenerator(\n",
    "    rescale=1. / 255,      #縮放   \n",
    "    shear_range=0.2,       #以弧度逆时针方向剪切角度\n",
    "    zoom_range=0.2,        #随機缩放範圍\n",
    "    horizontal_flip=True)  #隨機水平翻轉\n",
    "\n",
    "test_datagen = ImageDataGenerator(rescale=1. / 255)\n",
    "val_datagen = ImageDataGenerator(rescale=1. / 255)\n",
    "\n",
    "train_generator = train_datagen.flow_from_directory(\n",
    "    train_data,\n",
    "    target_size=(224, 224),\n",
    "    batch_size=16,\n",
    "    class_mode='categorical')\n",
    "\n",
    "test_generator = test_datagen.flow_from_directory(\n",
    "    test_data,\n",
    "    target_size=(224, 224),\n",
    "    batch_size=16,\n",
    "    class_mode='categorical')\n",
    "\n",
    "validation_generator = val_datagen.flow_from_directory(\n",
    "    val_data,\n",
    "    target_size=(224, 224),\n",
    "    batch_size=16,\n",
    "    class_mode='categorical')"
   ]
  },
  {
   "cell_type": "code",
   "execution_count": 6,
   "metadata": {
    "scrolled": false
   },
   "outputs": [
    {
     "name": "stdout",
     "output_type": "stream",
     "text": [
      "WARNING:tensorflow:From D:\\Anaconda3\\envs\\GPU\\lib\\site-packages\\tensorflow\\python\\ops\\math_grad.py:1250: add_dispatch_support.<locals>.wrapper (from tensorflow.python.ops.array_ops) is deprecated and will be removed in a future version.\n",
      "Instructions for updating:\n",
      "Use tf.where in 2.0, which has the same broadcast rule as np.where\n",
      "WARNING:tensorflow:From D:\\Anaconda3\\envs\\GPU\\lib\\site-packages\\keras\\backend\\tensorflow_backend.py:422: The name tf.global_variables is deprecated. Please use tf.compat.v1.global_variables instead.\n",
      "\n",
      "Epoch 1/16\n",
      "326/326 [==============================] - 230s 705ms/step - loss: 0.3625 - accuracy: 0.8190 - val_loss: 0.8219 - val_accuracy: 0.6250\n",
      "Epoch 2/16\n",
      "326/326 [==============================] - 144s 443ms/step - loss: 0.2012 - accuracy: 0.9120 - val_loss: 1.2417 - val_accuracy: 0.6250\n",
      "Epoch 3/16\n",
      "326/326 [==============================] - 144s 441ms/step - loss: 0.1629 - accuracy: 0.9360 - val_loss: 0.3519 - val_accuracy: 0.8750\n",
      "Epoch 4/16\n",
      "326/326 [==============================] - 145s 443ms/step - loss: 0.1390 - accuracy: 0.9486 - val_loss: 0.2946 - val_accuracy: 0.8125\n",
      "Epoch 5/16\n",
      "326/326 [==============================] - 137s 421ms/step - loss: 0.1217 - accuracy: 0.9515 - val_loss: 0.7109 - val_accuracy: 0.6250\n",
      "Epoch 6/16\n",
      "326/326 [==============================] - 137s 421ms/step - loss: 0.1121 - accuracy: 0.9595 - val_loss: 0.3393 - val_accuracy: 0.8125\n",
      "Epoch 7/16\n",
      "326/326 [==============================] - 141s 433ms/step - loss: 0.0986 - accuracy: 0.9618 - val_loss: 0.2046 - val_accuracy: 0.8750\n",
      "Epoch 8/16\n",
      "326/326 [==============================] - 135s 415ms/step - loss: 0.0958 - accuracy: 0.9628 - val_loss: 0.3217 - val_accuracy: 0.8125\n",
      "Epoch 9/16\n",
      "326/326 [==============================] - 140s 428ms/step - loss: 0.0902 - accuracy: 0.9666 - val_loss: 0.2073 - val_accuracy: 0.9375\n",
      "Epoch 10/16\n",
      "326/326 [==============================] - 143s 437ms/step - loss: 0.1006 - accuracy: 0.9622 - val_loss: 0.3543 - val_accuracy: 0.8750\n",
      "Epoch 11/16\n",
      "326/326 [==============================] - 141s 433ms/step - loss: 0.0752 - accuracy: 0.9718 - val_loss: 0.4303 - val_accuracy: 0.6875\n",
      "Epoch 12/16\n",
      "326/326 [==============================] - 138s 424ms/step - loss: 0.0771 - accuracy: 0.9722 - val_loss: 0.2003 - val_accuracy: 0.8750\n",
      "Epoch 13/16\n",
      "326/326 [==============================] - 133s 407ms/step - loss: 0.0759 - accuracy: 0.9720 - val_loss: 0.2116 - val_accuracy: 0.8750\n",
      "Epoch 14/16\n",
      "326/326 [==============================] - 132s 405ms/step - loss: 0.0829 - accuracy: 0.9686 - val_loss: 0.3934 - val_accuracy: 0.7500\n",
      "Epoch 15/16\n",
      "326/326 [==============================] - 135s 415ms/step - loss: 0.0693 - accuracy: 0.9774 - val_loss: 0.6609 - val_accuracy: 0.5625\n",
      "Epoch 16/16\n",
      "326/326 [==============================] - 132s 406ms/step - loss: 0.0638 - accuracy: 0.9774 - val_loss: 0.2035 - val_accuracy: 0.8750\n"
     ]
    }
   ],
   "source": [
    "history_pretrained = inception_transfer.fit_generator(\n",
    "    train_generator,\n",
    "    epochs=16, shuffle = True, \n",
    "    verbose = 1, validation_data = validation_generator)\n"
   ]
  },
  {
   "cell_type": "code",
   "execution_count": 7,
   "metadata": {},
   "outputs": [
    {
     "name": "stdout",
     "output_type": "stream",
     "text": [
      "acc = 91.66666865348816\n"
     ]
    }
   ],
   "source": [
    "# Evaluate the model\n",
    "scores = inception_transfer.evaluate_generator(test_generator)\n",
    "print('acc =',scores[1]*100)\n",
    "inception_transfer.save('model.h5')"
   ]
  },
  {
   "cell_type": "code",
   "execution_count": 8,
   "metadata": {},
   "outputs": [],
   "source": [
    "from pathlib import Path\n",
    "# Load model for testing\n",
    "model = load_model('model.h5')\n",
    "\n",
    "test_dir = Path('test')\n",
    "\n",
    "normal_cases_dir = test_dir / 'NORMAL'\n",
    "pneumonia_cases_dir = test_dir / 'PNEUMONIA'\n",
    "\n",
    "normal_cases = normal_cases_dir.glob('*.jpeg')\n",
    "pneumonia_cases = pneumonia_cases_dir.glob('*.jpeg')\n",
    "\n",
    "test_data = []\n",
    "test_labels = []"
   ]
  },
  {
   "cell_type": "code",
   "execution_count": 9,
   "metadata": {},
   "outputs": [
    {
     "name": "stdout",
     "output_type": "stream",
     "text": [
      "Total number of test examples:  (624, 224, 224, 3)\n",
      "Total number of labels: (624, 2)\n"
     ]
    }
   ],
   "source": [
    "import cv2\n",
    "import tensorflow as tf\n",
    "\n",
    "for img in normal_cases:\n",
    "    img = cv2.imread(str(img))\n",
    "    img = cv2.resize(img, (224, 224))\n",
    "    if img.shape[2] == 1:\n",
    "        img = np.dstack([img, img, img])\n",
    "    else:\n",
    "        img = cv2.cvtColor(img, cv2.COLOR_BGR2RGB)\n",
    "    img = img.astype(np.float32)/255.\n",
    "    label = tf.keras.utils.to_categorical(0, num_classes=2)\n",
    "    test_data.append(img)\n",
    "    test_labels.append(label)\n",
    "\n",
    "for img in pneumonia_cases:\n",
    "    img = cv2.imread(str(img))\n",
    "    img = cv2.resize(img, (224, 224))\n",
    "    if img.shape[2] == 1:\n",
    "        img = np.dstack([img, img, img])\n",
    "    else:\n",
    "        img = cv2.cvtColor(img, cv2.COLOR_BGR2RGB)\n",
    "    img = img.astype(np.float32)/255.\n",
    "    label = tf.keras.utils.to_categorical(1, num_classes=2)\n",
    "    test_data.append(img)\n",
    "    test_labels.append(label)\n",
    "\n",
    "test_data = np.array(test_data)\n",
    "test_labels = np.array(test_labels)\n",
    "\n",
    "print(\"Total number of test examples: \", test_data.shape)\n",
    "print(\"Total number of labels:\", test_labels.shape)"
   ]
  },
  {
   "cell_type": "code",
   "execution_count": 10,
   "metadata": {},
   "outputs": [
    {
     "name": "stdout",
     "output_type": "stream",
     "text": [
      "              precision    recall  f1-score   support\n",
      "\n",
      "           0       0.98      0.78      0.87       234\n",
      "           1       0.88      0.99      0.93       390\n",
      "\n",
      "    accuracy                           0.91       624\n",
      "   macro avg       0.93      0.89      0.90       624\n",
      "weighted avg       0.92      0.91      0.91       624\n",
      "\n",
      "[[183  51]\n",
      " [  3 387]]\n"
     ]
    }
   ],
   "source": [
    "# Get predictions\n",
    "from sklearn import metrics\n",
    "preds = model.predict(test_data, batch_size=16)\n",
    "preds = np.argmax(preds, axis=-1)\n",
    "orig_test_labels = np.argmax(test_labels, axis=-1)\n",
    "\n",
    "print(metrics.classification_report(orig_test_labels, preds))\n",
    "print(metrics.confusion_matrix(orig_test_labels, preds))"
   ]
  }
 ],
 "metadata": {
  "kernelspec": {
   "display_name": "Python 3",
   "language": "python",
   "name": "python3"
  },
  "language_info": {
   "codemirror_mode": {
    "name": "ipython",
    "version": 3
   },
   "file_extension": ".py",
   "mimetype": "text/x-python",
   "name": "python",
   "nbconvert_exporter": "python",
   "pygments_lexer": "ipython3",
   "version": "3.7.4"
  }
 },
 "nbformat": 4,
 "nbformat_minor": 2
}
